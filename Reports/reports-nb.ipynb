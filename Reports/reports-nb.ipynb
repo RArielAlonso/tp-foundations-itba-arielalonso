{
 "cells": [
  {
   "cell_type": "code",
   "execution_count": 30,
   "metadata": {},
   "outputs": [],
   "source": [
    "import pandas as pd\n",
    "import os\n",
    "from sqlalchemy import create_engine\n",
    "import seaborn as sns\n",
    "import matplotlib.pyplot as plt"
   ]
  },
  {
   "cell_type": "code",
   "execution_count": 2,
   "metadata": {},
   "outputs": [],
   "source": [
    "POSTGRES_USER='aalonso'\n",
    "POSTGRES_PASS='ITBA'\n",
    "POSTGRES_HOST=\"localhost\"\n",
    "POSTGRES_DB='database_pizza'\n",
    "POSTGRES_PORT='5432'\n",
    "POSTGRES_SCHEMA='schema_pizza'"
   ]
  },
  {
   "cell_type": "code",
   "execution_count": 3,
   "metadata": {},
   "outputs": [],
   "source": [
    "str_conection=f\"postgresql://{POSTGRES_USER}:{POSTGRES_PASS}@{POSTGRES_HOST}:{POSTGRES_PORT}/{POSTGRES_DB}\""
   ]
  },
  {
   "cell_type": "code",
   "execution_count": 4,
   "metadata": {},
   "outputs": [],
   "source": [
    "engine=create_engine(str_conection,\n",
    "connect_args={'options': f'-csearch_path={POSTGRES_SCHEMA}'})"
   ]
  },
  {
   "cell_type": "code",
   "execution_count": 5,
   "metadata": {},
   "outputs": [],
   "source": [
    "conn = engine.connect()"
   ]
  },
  {
   "cell_type": "code",
   "execution_count": 20,
   "metadata": {},
   "outputs": [],
   "source": [
    "df_year_month=pd.read_sql(\"\"\"select o2.year,o2.month, round(sum(o.quantity*p.price)) as total_order_amount \n",
    "from schema_pizza.order_details o\n",
    "inner join schema_pizza.orders o2 on o.order_id=o2.order_id\n",
    "left join schema_pizza.pizzas p on p.pizza_id=o.pizza_id\n",
    "group by o2.year,o2.month\n",
    "order by o2.year,o2.month;\n",
    "\"\"\",conn)"
   ]
  },
  {
   "cell_type": "code",
   "execution_count": 78,
   "metadata": {},
   "outputs": [
    {
     "data": {
      "image/png": "[encoded data removed]",
      "text/plain": [
       "<Figure size 720x360 with 1 Axes>"
      ]
     },
     "metadata": {
      "needs_background": "light"
     },
     "output_type": "display_data"
    }
   ],
   "source": [
    "plt.figure(figsize=(10,5))\n",
    "sns.barplot(data=df_year_month,x=df_year_month['month'],\n",
    "            y='total_order_amount',\n",
    "            #color='blue',\n",
    "            hue='year',\n",
    "            )\n",
    "plt.title('Facturacion Mensual')\n",
    "plt.xlabel('Mes')\n",
    "plt.ylabel('Monto')\n",
    "plt.legend(loc=8, bbox_to_anchor=(1.1, 0.5),title=\"Año\")\n",
    "plt.tight_layout()\n",
    "plt.savefig(r'\\\\wsl$\\Ubuntu\\home\\ariel\\TP-Foundations\\Reports\\graphs\\facturacion.jpg',dpi=300)"
   ]
  },
  {
   "cell_type": "code",
   "execution_count": null,
   "metadata": {},
   "outputs": [],
   "source": [
    "conn.close()"
   ]
  }
 ],
 "metadata": {
  "kernelspec": {
   "display_name": "Python 3.9.12 ('base')",
   "language": "python",
   "name": "python3"
  },
  "language_info": {
   "codemirror_mode": {
    "name": "ipython",
    "version": 3
   },
   "file_extension": ".py",
   "mimetype": "text/x-python",
   "name": "python",
   "nbconvert_exporter": "python",
   "pygments_lexer": "ipython3",
   "version": "3.9.12"
  },
  "orig_nbformat": 4,
  "vscode": {
   "interpreter": {
    "hash": "ad2bdc8ecc057115af97d19610ffacc2b4e99fae6737bb82f5d7fb13d2f2c186"
   }
  }
 },
 "nbformat": 4,
 "nbformat_minor": 2
}
